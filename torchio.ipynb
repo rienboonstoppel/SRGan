{
 "cells": [
  {
   "cell_type": "code",
   "execution_count": 1,
   "metadata": {
    "collapsed": true
   },
   "outputs": [],
   "source": [
    "import os\n",
    "import numpy as np\n",
    "import nibabel as nib\n",
    "import torchio.data\n",
    "from tqdm import tqdm\n",
    "from torch.utils.data import Dataset\n",
    "import random\n",
    "import torch\n",
    "import torchio as tio\n",
    "import matplotlib.pyplot as plt\n",
    "from dataset_tio import Normalize, ImagePair, calculate_overlap, data_split, RealImage, real_data\n",
    "import torchvision\n",
    "from models.generator import GeneratorRRDB\n",
    "from models.generator_marcel import DeepUResnet\n",
    "from models.discriminator import Discriminator\n",
    "from models.feature_extractor import FeatureExtractor\n",
    "\n",
    "from trainer_org import LitTrainer as LitTrainer_org\n",
    "from trainer_gan import LitTrainer as LitTrainer_gan\n",
    "import pytorch_lightning as pl\n",
    "\n",
    "from torchvision.utils import save_image\n",
    "from torchsummary import summary\n",
    "import time\n",
    "from utils import save_subject\n",
    "from skimage.metrics import structural_similarity as SSIM\n",
    "from skimage.metrics import normalized_root_mse as NRSME\n",
    "from mpl_toolkits.axes_grid1.inset_locator import zoomed_inset_axes\n",
    "from mpl_toolkits.axes_grid1.inset_locator import mark_inset\n",
    "from RandomRotate import RandomRotate\n",
    "from contextlib import contextmanager\n",
    "\n",
    "import psutil  # installed it with pip\n",
    "import cv2\n",
    "import visualization\n",
    "plot_volume = visualization.plot_volume_interactive"
   ]
  },
  {
   "cell_type": "code",
   "execution_count": 4,
   "outputs": [],
   "source": [
    "%load_ext autoreload\n",
    "%autoreload 2"
   ],
   "metadata": {
    "collapsed": false,
    "pycharm": {
     "name": "#%%\n"
    }
   }
  },
  {
   "cell_type": "code",
   "execution_count": 5,
   "outputs": [],
   "source": [
    "std = 0.3548\n",
    "patients_frac = .5\n",
    "root_dir = '/mnt/beta/djboonstoppel/Code'\n",
    "data_resolution = '2mm_1mm'\n",
    "patch_size = 64\n",
    "patch_overlap = .5\n",
    "batch_size = 16\n",
    "num_workers = 4"
   ],
   "metadata": {
    "collapsed": false,
    "pycharm": {
     "name": "#%%\n"
    }
   }
  },
  {
   "cell_type": "code",
   "execution_count": 6,
   "outputs": [
    {
     "name": "stdout",
     "output_type": "stream",
     "text": [
      "Loading validation set...\n",
      "15\n"
     ]
    }
   ],
   "source": [
    "data_path = os.path.join(root_dir, 'data')\n",
    "val_subjects = data_split('validation', patients_frac=patients_frac, root_dir=data_path, data_resolution=data_resolution, numslices=None)\n",
    "print(len(val_subjects))"
   ],
   "metadata": {
    "collapsed": false,
    "pycharm": {
     "name": "#%%\n"
    }
   }
  },
  {
   "cell_type": "code",
   "execution_count": 7,
   "outputs": [
    {
     "name": "stdout",
     "output_type": "stream",
     "text": [
      "torch.Size([1, 224, 224, 67])\n"
     ]
    }
   ],
   "source": [
    "print(val_subjects[0]['LR'][tio.DATA].shape)"
   ],
   "metadata": {
    "collapsed": false,
    "pycharm": {
     "name": "#%%\n"
    }
   }
  },
  {
   "cell_type": "code",
   "execution_count": 20,
   "outputs": [
    {
     "data": {
      "text/plain": "HBox(children=(IntSlider(value=112, continuous_update=False, description='Sagittal L-R', max=223), IntSlider(v…",
      "application/vnd.jupyter.widget-view+json": {
       "version_major": 2,
       "version_minor": 0,
       "model_id": "3f7857a332854992b099f485b048c867"
      }
     },
     "metadata": {},
     "output_type": "display_data"
    },
    {
     "data": {
      "text/plain": "Output()",
      "application/vnd.jupyter.widget-view+json": {
       "version_major": 2,
       "version_minor": 0,
       "model_id": "5796a25d3e264649b83398a833db00a0"
      }
     },
     "metadata": {},
     "output_type": "display_data"
    }
   ],
   "source": [
    "plot_volume(val_subjects[3]['HR_msk_bin'][tio.DATA].squeeze().numpy())\n",
    "\n",
    "\n"
   ],
   "metadata": {
    "collapsed": false,
    "pycharm": {
     "name": "#%%\n"
    }
   }
  },
  {
   "cell_type": "code",
   "execution_count": 99,
   "outputs": [
    {
     "data": {
      "text/plain": "<matplotlib.image.AxesImage at 0x7f0f2e15cd60>"
     },
     "execution_count": 99,
     "metadata": {},
     "output_type": "execute_result"
    },
    {
     "data": {
      "text/plain": "<Figure size 432x288 with 1 Axes>",
      "image/png": "[encoded data removed]"
     },
     "metadata": {
      "needs_background": "light"
     },
     "output_type": "display_data"
    }
   ],
   "source": [
    "mask = val_subjects[0]['HR_msk_bin'][tio.DATA]\n",
    "# mask_binary = val_subjects[1]['HR_msk'][tio.DATA][val_subjects[1]['HR_msk'][tio.DATA]>1]=1\n",
    "plt.imshow(mask[0,:,:,25], cmap='gray')"
   ],
   "metadata": {
    "collapsed": false,
    "pycharm": {
     "name": "#%%\n"
    }
   }
  },
  {
   "cell_type": "code",
   "execution_count": null,
   "outputs": [],
   "source": [
    "mask[mask>0]=1\n",
    "plt.imshow(mask[0,:,:,25], cmap='gray')"
   ],
   "metadata": {
    "collapsed": false,
    "pycharm": {
     "name": "#%%\n"
    }
   }
  },
  {
   "cell_type": "code",
   "execution_count": 108,
   "outputs": [
    {
     "name": "stdout",
     "output_type": "stream",
     "text": [
      "Time: 0.0885179043 s\n",
      "(224, 224, 69)\n"
     ]
    },
    {
     "data": {
      "text/plain": "<matplotlib.image.AxesImage at 0x7f0f2de551c0>"
     },
     "execution_count": 108,
     "metadata": {},
     "output_type": "execute_result"
    },
    {
     "data": {
      "text/plain": "<Figure size 432x288 with 1 Axes>",
      "image/png": "[encoded data removed]"
     },
     "metadata": {
      "needs_background": "light"
     },
     "output_type": "display_data"
    }
   ],
   "source": [
    "mask = nib.load('data/brain_simulated_t1w_mri/2mm_1mm/HR_msk/23-Aug-2021_Ernst_labels_100206_3T_T1w_MPR1_img_act_1_contrast_1_Res_1_1_2_msk.nii.gz')\n",
    "mask = mask.get_fdata()\n",
    "kernel = np.ones((10,10,10,10,10), np.uint8)\n",
    "\n",
    "start_time = time.time()\n",
    "mask[mask>0]=1\n",
    "mask = cv2.erode(mask, np.ones((10,10)), iterations=2)\n",
    "\n",
    "end_time = time.time()\n",
    "print('Time: {:.10f} s'.format(end_time - start_time))\n",
    "print(mask.shape)\n",
    "plt.imshow(mask[:,:,20], cmap='gray')"
   ],
   "metadata": {
    "collapsed": false,
    "pycharm": {
     "name": "#%%\n"
    }
   }
  },
  {
   "cell_type": "code",
   "execution_count": null,
   "outputs": [],
   "source": [
    "transform = tio.Compose([\n",
    "    Normalize(std=std),\n",
    "    # tio.RandomNoise(p=0.5),\n",
    "    # tio.RandomFlip(axes=(0, 1), flip_probability=1),\n",
    "    # tio.RandomFlip(axes=(0, 1), flip_probability=0.9),\n",
    "])"
   ],
   "metadata": {
    "collapsed": false,
    "pycharm": {
     "name": "#%%\n"
    }
   }
  },
  {
   "cell_type": "code",
   "execution_count": 8,
   "outputs": [],
   "source": [
    "val_set = tio.SubjectsDataset(val_subjects, transform=None)\n",
    "\n",
    "overlap, nr_patches = calculate_overlap(val_subjects[0]['LR'],\n",
    "                                        (patch_size, patch_size),\n",
    "                                        (patch_overlap, patch_overlap)\n",
    "                                        )\n",
    "samples_per_volume = nr_patches\n",
    "\n",
    "sampler = tio.data.GridSampler(patch_size=(patch_size, patch_size, 1),\n",
    "                               patch_overlap=overlap,\n",
    "                                    # padding_mode=0,\n",
    "                                    )\n",
    "# probabilities = {0: 0,\n",
    "#                  1: 1,\n",
    "#                  2: 1,\n",
    "#                  3: 1,\n",
    "#                  4: 1,\n",
    "#                  5: 1,\n",
    "#                  6: 1,\n",
    "#                  7: 1,\n",
    "#                  8: 1,\n",
    "#                  9: 1,\n",
    "#                  10: 1,\n",
    "#                  11: 1,\n",
    "#                  12: 1,\n",
    "#                  13: 1,\n",
    "#                  14: 1,\n",
    "#                  15: 1,\n",
    "#                  16: 1,\n",
    "#                  }\n",
    "# sampler = tio.data.LabelSampler(\n",
    "#     patch_size=(patch_size, patch_size, 1),\n",
    "#     label_name='HR_msk',\n",
    "#     label_probabilities=probabilities,\n",
    "# )\n",
    "# generator = sampler(subject)\n",
    "# for patch in generator:\n",
    "#     print(patch.shape)\n",
    "# If you want a specific number of patches from a volume, e.g. 10:\n",
    "\n",
    "# generator = sampler(subject, num_patches=10)\n",
    "# for patch in iterator:\n",
    "#     print(patch.shape)\n",
    "\n",
    "\n",
    "val_queue = tio.Queue(\n",
    "    subjects_dataset=val_set,\n",
    "    max_length=samples_per_volume * 10,\n",
    "    samples_per_volume=samples_per_volume,\n",
    "    sampler=sampler,\n",
    "    num_workers=num_workers,\n",
    "    shuffle_subjects=False,\n",
    "    shuffle_patches=False,\n",
    ")\n",
    "val_loader = torch.utils.data.DataLoader(\n",
    "    val_queue,\n",
    "    batch_size=batch_size,\n",
    "    num_workers=0,\n",
    "    )\n",
    "train_len = len(val_loader)"
   ],
   "metadata": {
    "collapsed": false,
    "pycharm": {
     "name": "#%%\n"
    }
   }
  },
  {
   "cell_type": "code",
   "execution_count": 11,
   "outputs": [],
   "source": [
    "batch = next(iter(val_loader))\n"
   ],
   "metadata": {
    "collapsed": false,
    "pycharm": {
     "name": "#%%\n"
    }
   }
  },
  {
   "cell_type": "code",
   "execution_count": 13,
   "outputs": [
    {
     "name": "stdout",
     "output_type": "stream",
     "text": [
      "torch.Size([16, 1, 64, 64, 1])\n"
     ]
    }
   ],
   "source": [
    "print(batch['LR'][tio.DATA].shape)"
   ],
   "metadata": {
    "collapsed": false,
    "pycharm": {
     "name": "#%%\n"
    }
   }
  },
  {
   "cell_type": "code",
   "execution_count": 3,
   "outputs": [
    {
     "name": "stdout",
     "output_type": "stream",
     "text": [
      "0.18.76\n"
     ]
    }
   ],
   "source": [
    "print(tio.__version__)"
   ],
   "metadata": {
    "collapsed": false,
    "pycharm": {
     "name": "#%%\n"
    }
   }
  },
  {
   "cell_type": "code",
   "execution_count": 9,
   "outputs": [
    {
     "ename": "AttributeError",
     "evalue": "'NoneType' object has no attribute 'spatial_shape'",
     "output_type": "error",
     "traceback": [
      "\u001B[0;31m---------------------------------------------------------------------------\u001B[0m",
      "\u001B[0;31mAttributeError\u001B[0m                            Traceback (most recent call last)",
      "\u001B[0;32m/tmp/ipykernel_1950797/2467516269.py\u001B[0m in \u001B[0;36m<module>\u001B[0;34m\u001B[0m\n\u001B[0;32m----> 1\u001B[0;31m \u001B[0maggregator\u001B[0m \u001B[0;34m=\u001B[0m \u001B[0mtio\u001B[0m\u001B[0;34m.\u001B[0m\u001B[0mdata\u001B[0m\u001B[0;34m.\u001B[0m\u001B[0mGridAggregator\u001B[0m\u001B[0;34m(\u001B[0m\u001B[0msampler\u001B[0m\u001B[0;34m)\u001B[0m\u001B[0;31m#, overlap_mode='average')\u001B[0m\u001B[0;34m\u001B[0m\u001B[0;34m\u001B[0m\u001B[0m\n\u001B[0m\u001B[1;32m      2\u001B[0m \u001B[0;34m\u001B[0m\u001B[0m\n\u001B[1;32m      3\u001B[0m \u001B[0;31m# for patches_batch in val_loader:\u001B[0m\u001B[0;34m\u001B[0m\u001B[0;34m\u001B[0m\u001B[0;34m\u001B[0m\u001B[0m\n\u001B[1;32m      4\u001B[0m \u001B[0;31m#     imgs_lr, imgs_hr = patches_batch['LR'][tio.DATA], patches_batch['HR'][tio.DATA]\u001B[0m\u001B[0;34m\u001B[0m\u001B[0;34m\u001B[0m\u001B[0;34m\u001B[0m\u001B[0m\n\u001B[1;32m      5\u001B[0m \u001B[0;31m#     locations = patches_batch[tio.LOCATION]\u001B[0m\u001B[0;34m\u001B[0m\u001B[0;34m\u001B[0m\u001B[0;34m\u001B[0m\u001B[0m\n",
      "\u001B[0;32m/mnt/beta/djboonstoppel/miniconda/lib/python3.9/site-packages/torchio/data/inference/aggregator.py\u001B[0m in \u001B[0;36m__init__\u001B[0;34m(self, sampler, overlap_mode)\u001B[0m\n\u001B[1;32m     32\u001B[0m         \u001B[0msubject\u001B[0m \u001B[0;34m=\u001B[0m \u001B[0msampler\u001B[0m\u001B[0;34m.\u001B[0m\u001B[0msubject\u001B[0m\u001B[0;34m\u001B[0m\u001B[0;34m\u001B[0m\u001B[0m\n\u001B[1;32m     33\u001B[0m         \u001B[0mself\u001B[0m\u001B[0;34m.\u001B[0m\u001B[0mvolume_padded\u001B[0m \u001B[0;34m=\u001B[0m \u001B[0msampler\u001B[0m\u001B[0;34m.\u001B[0m\u001B[0mpadding_mode\u001B[0m \u001B[0;32mis\u001B[0m \u001B[0;32mnot\u001B[0m \u001B[0;32mNone\u001B[0m\u001B[0;34m\u001B[0m\u001B[0;34m\u001B[0m\u001B[0m\n\u001B[0;32m---> 34\u001B[0;31m         \u001B[0mself\u001B[0m\u001B[0;34m.\u001B[0m\u001B[0mspatial_shape\u001B[0m \u001B[0;34m=\u001B[0m \u001B[0msubject\u001B[0m\u001B[0;34m.\u001B[0m\u001B[0mspatial_shape\u001B[0m\u001B[0;34m\u001B[0m\u001B[0;34m\u001B[0m\u001B[0m\n\u001B[0m\u001B[1;32m     35\u001B[0m         \u001B[0mself\u001B[0m\u001B[0;34m.\u001B[0m\u001B[0m_output_tensor\u001B[0m \u001B[0;34m=\u001B[0m \u001B[0;32mNone\u001B[0m\u001B[0;34m\u001B[0m\u001B[0;34m\u001B[0m\u001B[0m\n\u001B[1;32m     36\u001B[0m         \u001B[0mself\u001B[0m\u001B[0;34m.\u001B[0m\u001B[0mpatch_overlap\u001B[0m \u001B[0;34m=\u001B[0m \u001B[0msampler\u001B[0m\u001B[0;34m.\u001B[0m\u001B[0mpatch_overlap\u001B[0m\u001B[0;34m\u001B[0m\u001B[0;34m\u001B[0m\u001B[0m\n",
      "\u001B[0;31mAttributeError\u001B[0m: 'NoneType' object has no attribute 'spatial_shape'"
     ]
    }
   ],
   "source": [
    "aggregator = tio.data.GridAggregator(sampler)#, overlap_mode='average')\n",
    "\n",
    "# for patches_batch in val_loader:\n",
    "#     imgs_lr, imgs_hr = patches_batch['LR'][tio.DATA], patches_batch['HR'][tio.DATA]\n",
    "#     locations = patches_batch[tio.LOCATION]\n",
    "#     aggregator.add_batch(imgs_hr, locations)"
   ],
   "metadata": {
    "collapsed": false,
    "pycharm": {
     "name": "#%%\n"
    }
   }
  },
  {
   "cell_type": "code",
   "execution_count": 17,
   "outputs": [
    {
     "name": "stdout",
     "output_type": "stream",
     "text": [
      "{'NCC': {'SR0': 3, 'SR1': 3, 'SR2': 3}, 'SSIM': {'SR0': 1, 'SR1': 1, 'SR2': 1}, 'NRMSE': {'SR0': 2, 'SR1': 2, 'SR2': 2}}\n"
     ]
    }
   ],
   "source": [
    "test_dic = {\n",
    "    'NCC': {\n",
    "        # 'SR0': [],\n",
    "        # 'SR1': [],\n",
    "        # 'SR2': [],\n",
    "    },\n",
    "    'SSIM': {\n",
    "        # 'SR0': [],\n",
    "        # 'SR1': [],\n",
    "        # 'SR2': [],\n",
    "    },\n",
    "    'NRMSE': {\n",
    "        # 'SR0': [],\n",
    "        # 'SR1': [],\n",
    "        # 'SR2': [],\n",
    "    },\n",
    "}\n",
    "# test_dic = {'SSIM', 'NRMSE', 'NCC'}\n",
    "num = 3\n",
    "z = ['SSIM', 'NRMSE', 'NCC']\n",
    "x = ['SR0', 'SR1', 'SR2']\n",
    "y0 = [1, 2, 3]\n",
    "y1 = [4, 5, 6]\n",
    "y2 = [7, 8, 9]\n",
    "for i in range(num):\n",
    "\n",
    "    for key in x:\n",
    "        test_dic['SSIM'][key], test_dic['NRMSE'][key], test_dic['NCC'][key] = y0\n",
    "\n",
    "    # test_dic['SSIM']['SR0'] = test1\n",
    "    # test_dic['SSIM']['SR1'] = test4\n",
    "    # test_dic['SSIM']['SR2'] = test7\n",
    "\n",
    "print(test_dic)"
   ],
   "metadata": {
    "collapsed": false,
    "pycharm": {
     "name": "#%%\n"
    }
   }
  }
 ],
 "metadata": {
  "kernelspec": {
   "display_name": "Python 3",
   "language": "python",
   "name": "python3"
  },
  "language_info": {
   "codemirror_mode": {
    "name": "ipython",
    "version": 2
   },
   "file_extension": ".py",
   "mimetype": "text/x-python",
   "name": "python",
   "nbconvert_exporter": "python",
   "pygments_lexer": "ipython2",
   "version": "2.7.6"
  }
 },
 "nbformat": 4,
 "nbformat_minor": 0
}