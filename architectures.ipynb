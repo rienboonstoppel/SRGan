{
 "cells": [
  {
   "cell_type": "code",
   "execution_count": 4,
   "outputs": [
    {
     "name": "stdout",
     "output_type": "stream",
     "text": [
      "/mnt/beta/djboonstoppel/Code\n"
     ]
    }
   ],
   "source": [
    "import os\n",
    "import numpy as np\n",
    "import nibabel as nib\n",
    "from tqdm import tqdm\n",
    "from torch.utils.data import Dataset\n",
    "import random\n",
    "import torch\n",
    "import torchio as tio\n",
    "import matplotlib.pyplot as plt\n",
    "from dataset_tio import Normalize, ImagePair, calculate_overlap, data_split\n",
    "import torchvision\n",
    "from models.generator import GeneratorRRDB\n",
    "from models.generator_small import GeneratorRRDBSmall\n",
    "from models.generator_ds import GeneratorRRDBDeepSupervision\n",
    "\n",
    "from models.discriminator import Discriminator\n",
    "from models.feature_extractor import FeatureExtractor\n",
    "\n",
    "from trainer_org import LitTrainer as LitTrainer_org\n",
    "from trainer_gan import LitTrainer as LitTrainer_gan\n",
    "import pytorch_lightning as pl\n",
    "\n",
    "from torchvision.utils import save_image\n",
    "from torchsummary import summary\n",
    "import time\n",
    "from utils import save_subject\n",
    "from torch.utils.tensorboard import SummaryWriter\n",
    "\n",
    "\n",
    "print(os.getcwd())"
   ],
   "metadata": {
    "collapsed": false,
    "pycharm": {
     "name": "#%%\n"
    }
   }
  },
  {
   "cell_type": "code",
   "execution_count": 2,
   "outputs": [],
   "source": [
    "%load_ext autoreload\n",
    "%autoreload 2"
   ],
   "metadata": {
    "collapsed": false,
    "pycharm": {
     "name": "#%%\n"
    }
   }
  },
  {
   "cell_type": "code",
   "execution_count": 13,
   "outputs": [],
   "source": [
    "generator = GeneratorRRDB(channels=1, filters=64, num_res_blocks=1)\n",
    "generator_small = GeneratorRRDBSmall(channels=1, filters=64, num_res_blocks=1)\n",
    "generator_ds = GeneratorRRDBDeepSupervision(channels=1, filters=64, num_res_blocks=1)\n"
   ],
   "metadata": {
    "collapsed": false,
    "pycharm": {
     "name": "#%%\n"
    }
   }
  },
  {
   "cell_type": "code",
   "execution_count": 6,
   "outputs": [
    {
     "name": "stdout",
     "output_type": "stream",
     "text": [
      "Loading training set...\n"
     ]
    }
   ],
   "source": [
    "root_dir = '/mnt/beta/djboonstoppel/Code'\n",
    "patients_frac = .5\n",
    "std = 0.3548\n",
    "patch_size = 64\n",
    "patch_overlap = .5\n",
    "batch_size = 16\n",
    "\n",
    "data_path = os.path.join(root_dir, 'data')\n",
    "train_subjects = data_split('training', patients_frac=patients_frac, root_dir=data_path)\n",
    "\n",
    "training_transform = tio.Compose([\n",
    "    Normalize(std=std),\n",
    "    # tio.RandomNoise(p=0.5),\n",
    "    tio.RandomFlip(axes=(0, 1)),\n",
    "])\n",
    "\n",
    "training_set = tio.SubjectsDataset(\n",
    "    train_subjects, transform=training_transform)\n",
    "\n",
    "overlap, nr_patches = calculate_overlap(train_subjects[0]['LR'],\n",
    "                                        (patch_size, patch_size),\n",
    "                                        (patch_overlap, patch_overlap)\n",
    "                                        )\n",
    "\n",
    "sampler = tio.data.GridSampler(patch_size=(patch_size, patch_size, 1),\n",
    "                                    patch_overlap=overlap,\n",
    "                                    # padding_mode=0,\n",
    "                                    )\n",
    "\n",
    "training_queue = tio.Queue(\n",
    "    subjects_dataset=training_set,\n",
    "    max_length=nr_patches * 10,\n",
    "    samples_per_volume=nr_patches,\n",
    "    sampler=sampler,\n",
    "    num_workers=4,\n",
    "    shuffle_subjects=True,\n",
    "    shuffle_patches=True,\n",
    ")\n",
    "training_loader = torch.utils.data.DataLoader(\n",
    "    training_queue,\n",
    "    batch_size=batch_size,\n",
    "    num_workers=0,\n",
    ")\n",
    "\n",
    "batch = next(iter(training_loader))"
   ],
   "metadata": {
    "collapsed": false,
    "pycharm": {
     "name": "#%%\n"
    }
   }
  },
  {
   "cell_type": "code",
   "execution_count": 17,
   "outputs": [],
   "source": [
    "batch_LR = batch['LR'][tio.DATA].squeeze(4)\n",
    "writer = SummaryWriter('log/architectures/generator')\n",
    "writer.add_graph(generator.cuda(), batch_LR.cuda())"
   ],
   "metadata": {
    "collapsed": false,
    "pycharm": {
     "name": "#%%\n"
    }
   }
  },
  {
   "cell_type": "code",
   "execution_count": 19,
   "outputs": [
    {
     "name": "stdout",
     "output_type": "stream",
     "text": [
      "----------------------------------------------------------------\n",
      "        Layer (type)               Output Shape         Param #\n",
      "================================================================\n",
      "            Conv2d-1           [16, 64, 64, 64]             640\n",
      "            Conv2d-2           [16, 64, 64, 64]          36,928\n",
      "         LeakyReLU-3           [16, 64, 64, 64]               0\n",
      "            Conv2d-4           [16, 64, 64, 64]          73,792\n",
      "         LeakyReLU-5           [16, 64, 64, 64]               0\n",
      "            Conv2d-6           [16, 64, 64, 64]         110,656\n",
      "         LeakyReLU-7           [16, 64, 64, 64]               0\n",
      "            Conv2d-8           [16, 64, 64, 64]         147,520\n",
      "         LeakyReLU-9           [16, 64, 64, 64]               0\n",
      "           Conv2d-10           [16, 64, 64, 64]         184,384\n",
      "DenseResidualBlock-11           [16, 64, 64, 64]               0\n",
      "           Conv2d-12           [16, 64, 64, 64]          36,928\n",
      "        LeakyReLU-13           [16, 64, 64, 64]               0\n",
      "           Conv2d-14           [16, 64, 64, 64]          73,792\n",
      "        LeakyReLU-15           [16, 64, 64, 64]               0\n",
      "           Conv2d-16           [16, 64, 64, 64]         110,656\n",
      "        LeakyReLU-17           [16, 64, 64, 64]               0\n",
      "           Conv2d-18           [16, 64, 64, 64]         147,520\n",
      "        LeakyReLU-19           [16, 64, 64, 64]               0\n",
      "           Conv2d-20           [16, 64, 64, 64]         184,384\n",
      "DenseResidualBlock-21           [16, 64, 64, 64]               0\n",
      "           Conv2d-22           [16, 64, 64, 64]          36,928\n",
      "        LeakyReLU-23           [16, 64, 64, 64]               0\n",
      "           Conv2d-24           [16, 64, 64, 64]          73,792\n",
      "        LeakyReLU-25           [16, 64, 64, 64]               0\n",
      "           Conv2d-26           [16, 64, 64, 64]         110,656\n",
      "        LeakyReLU-27           [16, 64, 64, 64]               0\n",
      "           Conv2d-28           [16, 64, 64, 64]         147,520\n",
      "        LeakyReLU-29           [16, 64, 64, 64]               0\n",
      "           Conv2d-30           [16, 64, 64, 64]         184,384\n",
      "DenseResidualBlock-31           [16, 64, 64, 64]               0\n",
      "ResidualInResidualDenseBlock-32           [16, 64, 64, 64]               0\n",
      "           Conv2d-33           [16, 64, 64, 64]          36,928\n",
      "           Conv2d-34           [16, 64, 64, 64]          36,928\n",
      "        LeakyReLU-35           [16, 64, 64, 64]               0\n",
      "           Conv2d-36            [16, 1, 64, 64]             577\n",
      "================================================================\n",
      "Total params: 1,734,913\n",
      "Trainable params: 1,734,913\n",
      "Non-trainable params: 0\n",
      "----------------------------------------------------------------\n",
      "Input size (MB): 0.25\n",
      "Forward/backward pass size (MB): 1120.50\n",
      "Params size (MB): 6.62\n",
      "Estimated Total Size (MB): 1127.37\n",
      "----------------------------------------------------------------\n"
     ]
    }
   ],
   "source": [
    "summary(generator.cpu(), input_size=(1, 64, 64), batch_size=16, device='cpu')"
   ],
   "metadata": {
    "collapsed": false,
    "pycharm": {
     "name": "#%%\n"
    }
   }
  }
 ],
 "metadata": {
  "kernelspec": {
   "display_name": "Python 3",
   "language": "python",
   "name": "python3"
  },
  "language_info": {
   "codemirror_mode": {
    "name": "ipython",
    "version": 2
   },
   "file_extension": ".py",
   "mimetype": "text/x-python",
   "name": "python",
   "nbconvert_exporter": "python",
   "pygments_lexer": "ipython2",
   "version": "2.7.6"
  }
 },
 "nbformat": 4,
 "nbformat_minor": 0
}